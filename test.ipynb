{
 "cells": [
  {
   "cell_type": "code",
   "execution_count": null,
   "metadata": {},
   "outputs": [],
   "source": [
    "import os\n",
    "import polars as pl\n",
    "\n",
    "# Define the data folder path\n",
    "data_folder = \"data\"\n",
    "\n",
    "# Get a list of all Parquet files in the data folder that do not start with 'mavir'\n",
    "parquet_files = [os.path.join(data_folder, f) for f in os.listdir(data_folder) if f.endswith(\".parquet\") and not f.startswith(\"mavir\")]\n",
    "\n",
    "# Initialize a variable to hold the merged DataFrame\n",
    "merged_df = None\n",
    "\n",
    "# Iterate through the Parquet files and merge them sequentially\n",
    "for file in parquet_files:\n",
    "    df = pl.read_parquet(file)\n",
    "    if merged_df is None:\n",
    "        merged_df = df\n",
    "    else:\n",
    "        merged_df = merged_df.join(df, on=\"Időpont\", how=\"inner\")\n",
    "\n",
    "# The final merged DataFrame is stored in merged_df\n",
    "print(merged_df)"
   ]
  }
 ],
 "metadata": {
  "language_info": {
   "name": "python"
  }
 },
 "nbformat": 4,
 "nbformat_minor": 2
}
