{
 "cells": [
  {
   "cell_type": "code",
   "execution_count": 9,
   "id": "c0bafdfa",
   "metadata": {},
   "outputs": [],
   "source": [
    "import polars as pl\n",
    "import altair as alt\n",
    "import numpy as np"
   ]
  },
  {
   "cell_type": "code",
   "execution_count": 25,
   "id": "b2e801bd",
   "metadata": {},
   "outputs": [
    {
     "data": {
      "text/html": [
       "<div><style>\n",
       ".dataframe > thead > tr,\n",
       ".dataframe > tbody > tr {\n",
       "  text-align: right;\n",
       "  white-space: pre-wrap;\n",
       "}\n",
       "</style>\n",
       "<small>shape: (26, 2)</small><table border=\"1\" class=\"dataframe\"><thead><tr><th>group</th><th>time</th></tr><tr><td>str</td><td>i64</td></tr></thead><tbody><tr><td>&quot;12h&quot;</td><td>-11</td></tr><tr><td>&quot;12h&quot;</td><td>-10</td></tr><tr><td>&quot;12h&quot;</td><td>-9</td></tr><tr><td>&quot;12h&quot;</td><td>-8</td></tr><tr><td>&quot;12h&quot;</td><td>-7</td></tr><tr><td>&hellip;</td><td>&hellip;</td></tr><tr><td>&quot;10h&quot;</td><td>0</td></tr><tr><td>&quot;target&quot;</td><td>0</td></tr><tr><td>&quot;target&quot;</td><td>1</td></tr><tr><td>&quot;target&quot;</td><td>2</td></tr><tr><td>&quot;target&quot;</td><td>3</td></tr></tbody></table></div>"
      ],
      "text/plain": [
       "shape: (26, 2)\n",
       "┌────────┬──────┐\n",
       "│ group  ┆ time │\n",
       "│ ---    ┆ ---  │\n",
       "│ str    ┆ i64  │\n",
       "╞════════╪══════╡\n",
       "│ 12h    ┆ -11  │\n",
       "│ 12h    ┆ -10  │\n",
       "│ 12h    ┆ -9   │\n",
       "│ 12h    ┆ -8   │\n",
       "│ 12h    ┆ -7   │\n",
       "│ …      ┆ …    │\n",
       "│ 10h    ┆ 0    │\n",
       "│ target ┆ 0    │\n",
       "│ target ┆ 1    │\n",
       "│ target ┆ 2    │\n",
       "│ target ┆ 3    │\n",
       "└────────┴──────┘"
      ]
     },
     "execution_count": 25,
     "metadata": {},
     "output_type": "execute_result"
    }
   ],
   "source": [
    "df = pl.DataFrame(\n",
    "    {\"group\": (\"12h\",) * 12 + (\"10h\",) * 10 + (\"target\",) * 4, \"time\": tuple(range(-11, 1)) + tuple(range(-9, 1)) + tuple(range(4))}\n",
    ")\n",
    "df"
   ]
  },
  {
   "cell_type": "code",
   "execution_count": 26,
   "id": "747896da",
   "metadata": {},
   "outputs": [],
   "source": [
    "base = alt.Chart(df).encode(\n",
    "    x=alt.X(\"time:Q\", axis=alt.Axis(title=\"Time\", labelFontSize=14, titleFontSize=14, labelExpr=\"datum.label + 'h'\", format=\"\")),\n",
    "    y=alt.Y(\"group:N\", axis=alt.Axis(title=\"Feature Group\", labelFontSize=14, titleFontSize=14)),\n",
    "    color=\"group:N\",\n",
    ")\n",
    "finished = (base.mark_point(size=50, filled=False) + base.mark_line(size=2)).properties(width=800, height=300)\n",
    "finished.save(\"timeline.png\")"
   ]
  },
  {
   "cell_type": "code",
   "execution_count": null,
   "id": "77daa50d",
   "metadata": {},
   "outputs": [],
   "source": []
  }
 ],
 "metadata": {
  "kernelspec": {
   "display_name": "venv",
   "language": "python",
   "name": "python3"
  },
  "language_info": {
   "codemirror_mode": {
    "name": "ipython",
    "version": 3
   },
   "file_extension": ".py",
   "mimetype": "text/x-python",
   "name": "python",
   "nbconvert_exporter": "python",
   "pygments_lexer": "ipython3",
   "version": "3.12.3"
  }
 },
 "nbformat": 4,
 "nbformat_minor": 5
}
